{
 "cells": [
  {
   "cell_type": "markdown",
   "id": "38e3d76b",
   "metadata": {},
   "source": [
    "## Zillow Analysis"
   ]
  },
  {
   "cell_type": "markdown",
   "id": "c02393b1",
   "metadata": {},
   "source": [
    "Reading our cleaned dataset, via src/process_zillow.py..."
   ]
  },
  {
   "cell_type": "code",
   "execution_count": 32,
   "id": "9b801c09",
   "metadata": {},
   "outputs": [],
   "source": [
    "import pandas as pd\n",
    "\n",
    "df = pd.read_parquet(\"../data/processed/zillow_rent_cleaned.parquet\")"
   ]
  },
  {
   "cell_type": "code",
   "execution_count": 33,
   "id": "73364d20",
   "metadata": {},
   "outputs": [
    {
     "data": {
      "text/plain": [
       "zpid                    0\n",
       "zestimate            2643\n",
       "rentZestimate           0\n",
       "latitude                0\n",
       "longitude               0\n",
       "bedrooms             2194\n",
       "bathrooms            1808\n",
       "livingArea           1805\n",
       "yearBuilt            2789\n",
       "lotSize              3532\n",
       "homeType                0\n",
       "homeStatus              0\n",
       "miles_to_old_well       0\n",
       "dtype: int64"
      ]
     },
     "execution_count": 33,
     "metadata": {},
     "output_type": "execute_result"
    }
   ],
   "source": [
    "df.isna().sum()"
   ]
  },
  {
   "cell_type": "code",
   "execution_count": 34,
   "id": "7d378e13",
   "metadata": {},
   "outputs": [
    {
     "data": {
      "text/plain": [
       "(25182, 13)"
      ]
     },
     "execution_count": 34,
     "metadata": {},
     "output_type": "execute_result"
    }
   ],
   "source": [
    "df.shape"
   ]
  },
  {
   "cell_type": "markdown",
   "id": "6611eed7",
   "metadata": {},
   "source": [
    "From the two cells above, we know that our \"cleaned\" data has quite a few missing pieces. "
   ]
  },
  {
   "cell_type": "markdown",
   "id": "eba36550",
   "metadata": {},
   "source": [
    "Namely, out of the 22,763 total listings...\n",
    "- 2642 have a missing zestimate\n",
    "- 2194 have missing bedroom values\n",
    "- 1808 have missing bathroom values\n",
    "- 1805 have missing livingArea values\n",
    "- 2789 have missing yearBuilt values\n",
    "- 3532 have missing lotSize values"
   ]
  },
  {
   "cell_type": "markdown",
   "id": "980a07ac",
   "metadata": {},
   "source": [
    "I think the best course of action as we continue to clean our data is to drop zestimate, yearBuilt, livingArrea, and lotSize as features in our dataset. This technical tradeoff allows us to retain the majority of our current dataset. Let's also drop homeType and homeStatus since they won't play a big part of our analysis."
   ]
  },
  {
   "cell_type": "markdown",
   "id": "4faaf8f5",
   "metadata": {},
   "source": [
    "Next, we'll drop all rows which have a missing bedrooms or bathrooms value. These are imperative to training our model!"
   ]
  },
  {
   "cell_type": "code",
   "execution_count": 35,
   "id": "069038ba",
   "metadata": {},
   "outputs": [
    {
     "name": "stdout",
     "output_type": "stream",
     "text": [
      "✅ Rent-focused cleaned dataset saved to: ../data/processed/zillow_minimal_rent_cleaned.parquet\n",
      "Remaining rows: 22494\n",
      "zpid                 0\n",
      "rentZestimate        0\n",
      "latitude             0\n",
      "longitude            0\n",
      "bedrooms             0\n",
      "bathrooms            0\n",
      "livingArea           0\n",
      "miles_to_old_well    0\n",
      "dtype: int64\n"
     ]
    }
   ],
   "source": [
    "import pandas as pd\n",
    "\n",
    "# Load the original cleaned Zillow dataset (includes rentZestimate)\n",
    "df = pd.read_parquet(\"../data/processed/zillow_rent_cleaned.parquet\")\n",
    "\n",
    "# Drop columns no longer needed for rent modeling\n",
    "df = df.drop(columns=[\n",
    "    \"zestimate\",\n",
    "    \"yearBuilt\",\n",
    "    \"lotSize\",\n",
    "    \"homeType\",\n",
    "    \"homeStatus\"\n",
    "])\n",
    "\n",
    "# Drop rows missing key features for rent prediction\n",
    "df = df.dropna(subset=[\"rentZestimate\", \"bedrooms\", \"bathrooms\", \"livingArea\"])\n",
    "\n",
    "# Optional: drop listings with 0 bedrooms (to avoid divide-by-zero)\n",
    "df = df[df[\"bedrooms\"] > 0]\n",
    "\n",
    "# Save the final cleaned dataset for rent modeling\n",
    "output_path = \"../data/processed/zillow_minimal_rent_cleaned.parquet\"\n",
    "df.to_parquet(output_path)\n",
    "\n",
    "print(f\"✅ Rent-focused cleaned dataset saved to: {output_path}\")\n",
    "print(f\"Remaining rows: {len(df)}\")\n",
    "\n",
    "# Show remaining missing values (should be 0 or very low)\n",
    "print(df.isna().sum())"
   ]
  },
  {
   "cell_type": "markdown",
   "id": "a4079481",
   "metadata": {},
   "source": [
    "Great! Now we have 22,494 listings with no missing data woohoo. All set now. Time to get to work..."
   ]
  }
 ],
 "metadata": {
  "kernelspec": {
   "display_name": "comp421",
   "language": "python",
   "name": "python3"
  },
  "language_info": {
   "codemirror_mode": {
    "name": "ipython",
    "version": 3
   },
   "file_extension": ".py",
   "mimetype": "text/x-python",
   "name": "python",
   "nbconvert_exporter": "python",
   "pygments_lexer": "ipython3",
   "version": "3.12.10"
  }
 },
 "nbformat": 4,
 "nbformat_minor": 5
}
